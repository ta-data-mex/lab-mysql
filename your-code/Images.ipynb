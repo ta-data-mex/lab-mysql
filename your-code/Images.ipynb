{
 "cells": [
  {
   "cell_type": "markdown",
   "metadata": {},
   "source": [
    "# Images for lab-mysql\n",
    "\n",
    "## Design diagram\n",
    "\n",
    "![title](./picture.png)"
   ]
  },
  {
   "cell_type": "markdown",
   "metadata": {},
   "source": [
    "# Lists of diagrams\n",
    "\n",
    "![title](./cars.png)\n",
    "![title](./customer.png)\n",
    "![title](./salesperson.png)\n",
    "![title](./invoices.png)\n",
    "\n",
    "#### By Daniel Hernández Mota\n"
   ]
  }
 ],
 "metadata": {
  "kernelspec": {
   "display_name": "Python 3",
   "language": "python",
   "name": "python3"
  },
  "language_info": {
   "codemirror_mode": {
    "name": "ipython",
    "version": 3
   },
   "file_extension": ".py",
   "mimetype": "text/x-python",
   "name": "python",
   "nbconvert_exporter": "python",
   "pygments_lexer": "ipython3",
   "version": "3.7.1"
  }
 },
 "nbformat": 4,
 "nbformat_minor": 2
}
